{
 "cells": [
  {
   "cell_type": "markdown",
   "metadata": {
    "pycharm": {
     "name": "#%% md\n"
    }
   },
   "source": [
    "# Zivot and Andrews (ZA, 1992) Structural Break Test"
   ]
  },
  {
   "cell_type": "markdown",
   "metadata": {
    "collapsed": true,
    "pycharm": {
     "name": "#%% md\n"
    }
   },
   "source": [
    "In this jupyter notebook, author specifies the Zivot and Andrews (ZA, 1992) Models specification for One-endogenous structural break unit root test, and Narayan and Popp (NP, 2010) Models specification for Two-endogenous structural break unit root test. Firstly, this notebook examines ZA unit root test. In GAUSS Light 21, there are two different models that can be employed to test for structural breaks within time-series data series for ZA test, _id est_:"
   ]
  },
  {
   "cell_type": "markdown",
   "metadata": {},
   "source": [
    "#### Model 1: One Break Occurs in Level only within dataset"
   ]
  },
  {
   "cell_type": "markdown",
   "metadata": {},
   "source": [
    "$$Y_t = \\hat{\\mu}^A + \\hat{\\beta}^A t + \\hat{\\alpha}^A Y_{t-1} + \\hat{\\theta}^A DU_t(\\hat{\\lambda}) +\n",
    "                \\displaystyle\\sum_{i=1}^k \\hat{c}_j^A \\Delta Y_{t-j} + \\hat{e}_t$$"
   ]
  },
  {
   "cell_type": "markdown",
   "metadata": {},
   "source": [
    "#### Model 2: One Break Occurs in both Level and Trend within dataset"
   ]
  },
  {
   "cell_type": "markdown",
   "metadata": {},
   "source": [
    "$$Y_t = \\underset{\\text{Constant and Trend}}{\\underbrace{\\hat{\\mu}^C + \\hat{\\beta}_t^C t}} +\n",
    "        \\underset{\\text{AR(1)}}{\\underbrace{\\hat{\\alpha}^C Y_{t-1}}} +\n",
    "        \\underset{\\text{Level and Trend Dummy}}{\\underbrace{\\hat{\\theta}^C DU_t(\\hat{\\lambda})\n",
    "        + \\hat{\\gamma}^C DT_t^*(\\hat{\\lambda})}} +\n",
    "        \\underset{\\text{Distributed Lag}}{\\underbrace{\\displaystyle\\sum_{i=1}^k \\hat{c}_j^C \\Delta Y_{t-j}} + \\hat{e}_t$$"
   ]
  },
  {
   "cell_type": "markdown",
   "metadata": {
    "pycharm": {
     "name": "#%% md\n"
    }
   },
   "source": [
    "The terms in the specification are:\n",
    "\n",
    "* $Y_t$ denoted as endogenous variables.\n",
    "* $\\hat{\\mu}$ represent Constant coefficient of model.\n",
    "* $\\hat{\\beta}_t t$ are Deterministic trend regressor.\n",
    "* $\\hat{\\alpha} Y_{t-1}$ denote AR(1) regressor of endogenous variables.\n",
    "* $\\hat{\\theta} DU_t(\\hat{\\lambda})$ represent Structural Break Dummy for Level.\n",
    "* $\\hat{\\gamma} DT_t^*(\\hat{\\lambda})$ are Structural Break Dummy for Trend.\n",
    "* $\\displaystyle\\sum_{i=1}^k\\hat{c}_j \\Delta Y_{t-j}$ reflected as distributed lag of first-difference endogenous variables, where the $k$ optimum lag are determined based on information criterion (IC). GAUSS Light 21 provides three diverse IC to determine the optimum lag of test, i.e. (1) Akaike Information Criterion (AIC), (2) Schwarz Criterion (SC), and (3) t-statistics Significance. The default setting is (3).\n",
    "* $\\hat{e}_t$ is assumed to be the error term with White Noise process.\n",
    "* $A$ and $C$ are reflected as model representation. A denotes model with level only, whilst C denotes model with both level and trend in which encapsulated within Zivot and Andrews (ZA,1992) framework.\n",
    "\n",
    "Furthermore, this test possesses an ability to determine the unknown break date endogenously within trending data series. However, this test has a limitation where it does not apply the structural break date when test cannot reject the null hypothesis of unit roots."
   ]
  },
  {
   "cell_type": "markdown",
   "metadata": {},
   "source": [
    "# Narayan and Popp (NP, 2010) Structural Break Test"
   ]
  },
  {
   "cell_type": "markdown",
   "metadata": {
    "pycharm": {
     "name": "#%% md\n"
    }
   },
   "source": [
    "In addition to Zivot and Andrews (1992) structural break test, this notebook also examined one additional well-known structural break test, namely Narayan and Popp (2010) structural break test. This test was developed by Prof. Paresh Kumar Narayan and Stephan Popp. To begin with, this test possesses capability to capture two-endogenous structural breaks in trending time-series data. Furthermore, it promotes distinctive features, where this test has correct size, stable power, and identifies the structural breaks accurately, both in small and large data sample. This test proposes two different specification as follows:"
   ]
  },
  {
   "cell_type": "markdown",
   "metadata": {
    "pycharm": {
     "name": "#%% md\n"
    }
   },
   "source": [
    "#### Model 1 (M1): Two Breaks Occur in the Level of Trending Data Series"
   ]
  },
  {
   "cell_type": "markdown",
   "metadata": {
    "pycharm": {
     "name": "#%% md\n"
    }
   },
   "source": [
    "$$Y_t^{M1} = \\alpha_1 + \\rho Y_{t-1} + \\beta^* t + \\theta_1 D(T_B^')_{1,t} + \\theta_2 D(T_B^')_{2,t} + \\delta_1 DU_{1, t-1}^' \n",
    "                     + \\delta_2 DU_{2, t-1}^' + \\displaystyle\\sum_{j=1}^k \\beta_j \\Delta Y_{t-j} + e_t$$"
   ]
  },
  {
   "cell_type": "markdown",
   "metadata": {
    "pycharm": {
     "name": "#%% md\n"
    }
   },
   "source": [
    "#### Model 2 (M2): Two Breaks Occur in Both Level and Trend of Trending Data Series"
   ]
  },
  {
   "cell_type": "markdown",
   "metadata": {
    "pycharm": {
     "name": "#%% md\n"
    }
   },
   "source": [
    "$$Y_t^{M2} = \\alpha_2 + \\rho Y_{t-1} + \\beta^* t + \\kappa_1 D(T_B^')_{1,t} + \\kappa_2 D(T_B^')_{2,t} + \\delta_1^* DU_{1, t-1}^'\n",
    "                     + \\delta_2^* DU_{2, t-1}^' + \\gamma_1^* DT_{1, t-1}^* + \\gamma_2^* DT_{2, t-1}^* + \\displaystyle\\sum_{j=1}^k \\beta_j \\Delta Y_{t-j} + e_t$$"
   ]
  },
  {
   "cell_type": "code",
   "execution_count": null,
   "metadata": {},
   "outputs": [],
   "source": []
  }
 ],
 "metadata": {
  "kernelspec": {
   "display_name": "Python 3 (ipykernel)",
   "language": "python",
   "name": "python3"
  },
  "language_info": {
   "codemirror_mode": {
    "name": "ipython",
    "version": 3
   },
   "file_extension": ".py",
   "mimetype": "text/x-python",
   "name": "python",
   "nbconvert_exporter": "python",
   "pygments_lexer": "ipython3",
   "version": "3.9.6"
  }
 },
 "nbformat": 4,
 "nbformat_minor": 1
}