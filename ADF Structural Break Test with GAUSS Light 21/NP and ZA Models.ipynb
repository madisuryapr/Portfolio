{
 "cells": [
  {
   "cell_type": "markdown",
   "metadata": {
    "pycharm": {
     "name": "#%% md\n"
    }
   },
   "source": [
    "# ADF Structural Break Unit Root Test"
   ]
  },
  {
   "cell_type": "markdown",
   "metadata": {},
   "source": [
    "## Zivot and Andrews (1992) Test\n",
    "\n",
    "In this jupyter notebook, author specifies the Zivot and Andrews (ZA, 1992) models specification for One-endogenous structural break, and Narayan and Popp (NP, 2010) models specification for two-endogenous structural break unit root tests. Firstly, this notebook examines ZA unit root test. This test possesses an ability to determine the unknown break date endogenously within trending data series. However, this test has a limitation where it does not apply the structural break date when test cannot reject the null hypothesis of unit roots. In GAUSS Light 21, there are two different models that can be employed to test for structural breaks within time-series data series for ZA test, _id est_\n",
    "\n",
    "**Model 1: One Break Occurs in Level only within dataset**\n",
    "\n",
    "$$\n",
    "Y_t = \\underset{\\text{Constant, Trend and AR(1)}}{\\underbrace{\\hat{\\mu}^A + \\hat{\\beta}^A t + {\\hat{\\alpha}^A Y_{t-1}}}} \n",
    "    + \\underset{\\text{Level Dummy}}{\\underbrace{\\hat{\\theta}^A DU_t(\\hat{\\lambda})}} \n",
    "    + \\overset{\\text{Distributed Lag}}{\\overbrace{\\displaystyle\\sum_{i=1}^k \\hat{c}_j^A \\Delta Y_{t-j}}} + \\hat{e}_t\n",
    "$$\n",
    "\n",
    "**Model 2: One Break Occurs in both Level and Trend within dataset**\n",
    " \n",
    "$$\n",
    "Y_t = \\underset{\\text{Constant, Trend and AR(1)}}{\\underbrace{\\hat{\\mu}^C + \\hat{\\beta}_t^C t + {\\hat{\\alpha}^C Y_{t-1}}}} \n",
    "    + \\underset{\\text{Level and Trend Dummy}}{\\underbrace{\\hat{\\theta}^C DU_t(\\hat{\\lambda}) + \\hat{\\gamma}^C DT_t^*(\\hat{\\lambda})}} \n",
    "    + \\overset{\\text{Distributed Lag}}{\\overbrace{\\displaystyle\\sum_{i=1}^k \\hat{c}_j^C \\Delta Y_{t-j}}} + \\hat{e}_t\n",
    "$$\n",
    "\n",
    "The terms in the specification are:\n",
    "\n",
    "* $Y_t$ denoted as endogenous variables.\n",
    "* $\\hat{\\mu}$ represent Constant coefficient of model.\n",
    "* $\\hat{\\beta}_t t$ are Deterministic trend regressor.\n",
    "* $\\hat{\\alpha} Y_{t-1}$ denote AR(1) regressor of endogenous variables.\n",
    "* $\\hat{\\theta} DU_t(\\hat{\\lambda})$ represent Level Dummy.\n",
    "* $\\hat{\\gamma} DT_t^*(\\hat{\\lambda})$ are Trend Dummy.\n",
    "* $\\displaystyle\\sum_{i=1}^k\\hat{c}_j \\Delta Y_{t-j}$ reflected as distributed lag of first-difference endogenous variables, where the $k$ optimum lag are determined based on information criterion (IC). GAUSS Light 21 provides three diverse IC to determine the optimum lag of test, i.e. (1) Akaike Information Criterion (AIC), (2) Schwarz Criterion (SC), and (3) t-statistics Significance. The default setting is (3).\n",
    "* $\\hat{e}_t$ is assumed to be the error term with White Noise process.\n",
    "* $A$ and $C$ are reflected as model representation. A denotes model with level only, whilst C denotes model with both level and trend in which encapsulated within Zivot and Andrews (ZA,1992) framework.\n",
    "\n",
    "The Hypotheses in this test can be presented the following:\n",
    "* $H_{null}$ : Non-stationary process (Unit Roots) in trending data series\n",
    "* $H_{alt}$ : Stationary process in trending data series with one-endogenous break\n",
    "\n",
    "Reject the null hypothesis when the test statistics are below critical values (1%, 5%, and 10%)."
   ]
  },
  {
   "cell_type": "markdown",
   "metadata": {
    "pycharm": {
     "name": "#%% md\n"
    }
   },
   "source": [
    "## Narayan and Popp (NP, 2010) Structural Break Test\n",
    "\n",
    "In addition to Zivot and Andrews (1992) structural break test, this notebook also examined one additional well-known structural break test, namely Narayan and Popp (2010) test. This test was developed by Prof. Paresh Kumar Narayan and Stephan Popp. To begin with, this test possesses capability to capture two-endogenous structural breaks in trending time-series data. Furthermore, it promotes distinctive features, where this test has correct size, stable power, and identifies the structural breaks accurately, both in small and large data sample. This test proposes two different specification, _id est_\n",
    "\n",
    "**Model 1: Two Breaks Occur in the Level of Trending Data Series**\n",
    "\n",
    "$$\n",
    "Z_t^{M1} = \\underset{\\text{Constant, AR(1) and Trend}}{\\underbrace{\\alpha_1 + \\rho Z_{t-1} + \\beta^* t}} \n",
    "         + \\underset{\\text{True Break Dummy}}{\\underbrace{\\theta_1 D(T_B)_{1,t} + \\theta_2 D(T_B)_{2,t}}} \n",
    "         + \\underset{\\text{Level Dummy}}{\\underbrace{\\delta_1^* DU_{1, t-1} + \\delta_2^* DU_{2, t-1}}} \n",
    "         + \\overset{\\text{Distributed Lag}}{\\overbrace{\\displaystyle\\sum_{j=1}^k \\beta_j \\Delta Z_{t-j}}} + e_t\n",
    "$$\n",
    "\n",
    "**Model 2: Two Breaks Occur in Both Level and Trend of Trending Data Series**\n",
    "\n",
    "$$\n",
    "Z_t^{M2} = \\underset{\\text{Constant, AR(1) and Trend}}{\\underbrace{\\alpha_2 + \\rho Z_{t-1} + \\beta^* t}} \n",
    "         + \\underset{\\text{True Break Dummy}}{\\underbrace{\\kappa_1 D(T_B)_{1,t} + \\kappa_2 D(T_B)_{2,t}}} \n",
    "         + \\underset{\\text{Level Dummy}}{\\underbrace{\\delta_1^* DU_{1, t-1} + \\delta_2^* DU_{2, t-1}}} \n",
    "         + \\underset{\\text{Trend Dummy}}{\\underbrace{\\gamma_1 DT_{1, t-1} + \\gamma_2 DT_{2, t-1}}}\n",
    "         + \\overset{\\text{Distributed Lag}}{\\overbrace{\\displaystyle\\sum_{j=1}^k \\beta_j \\Delta Z_{t-j}}} + e_t\n",
    "$$\n",
    "\n",
    "Those models above can be specified as following:\n",
    "\n",
    "* $Z_t$ denotes endogenous variables to be tested,\n",
    "* $\\alpha_{1,2}$ depicts model constant,\n",
    "* $\\rho Z_{t-1}$ represents one-lagged endogenous variables or AR(1),\n",
    "* $\\beta^* t$ indicates the deterministic trend regressor,\n",
    "* $\\kappa_{1,2} D(T_B)_{1t,2t}$ reflects the True Break Dummy within specification,\n",
    "* $\\delta_{1,2}^* DU_{1,2 t-1}$ refers to the Level Dummy,\n",
    "* $\\gamma_{1,2} DT_{1,2 t-1}$ denoted as the Trend Dummy,\n",
    "* $\\displaystyle\\sum_{j=1}^k \\beta_j \\Delta Z_{t-j}$ shows the distributed lag of first-difference endogenous variables. In regards to determining $k$ optimum lag, NP unit root test has an equal method to ZA, at which by deploying Information Criterion (IC) within GAUSS Light 21.\n",
    "* $e_t$ is assumed to be the error term of model with White Noise process,\n",
    "* And eventually, the superscript $M^{1, 2}$ represents model type.\n",
    "\n",
    "In this test, Narayan and Popp (2010) proposed hypotheses as following:\n",
    "* $H_{null}$ : Non-stationary process (Unit Roots) in trending data series with two-endogenous structural breaks\n",
    "* $H_{alt}$ : Stationary process in trending data series with two-endogenous structural breaks\n",
    "\n",
    "To reject the null hypothesis, test statistics must be below critical values (1%, 5%, and 10%)."
   ]
  },
  {
   "cell_type": "markdown",
   "metadata": {},
   "source": [
    "For more details and information regarding test construction, see journals below:\n",
    "\n",
    "* [Zivot, E., & Andrews, D.W.K. (1992). Further evidence on the great crash, the oil-price shock, and the unit-root hypothesis. _Journal of Business & Economic Statistics_, 10(3), 251-270.](https://www.jstor.org/stable/1391541)\n",
    "* [Narayan, P.K., & Popp, S. (2010). A new unit root test with two structural breaks in level and slope at unknown time. _Journal of Applied Statistics_, 37(9), 1425-1438.](https://www.tandfonline.com/doi/abs/10.1080/02664760903039883)\n",
    "* [Narayan, P.K., & Popp, S. (2013). Size and power properties of structural break unit root tests. _Applied Economics_, 45(6), 721-728.](https://www.tandfonline.com/doi/abs/10.1080/00036846.2011.610752)"
   ]
  }
 ],
 "metadata": {
  "kernelspec": {
   "display_name": "Python 3",
   "language": "python",
   "name": "python3"
  },
  "language_info": {
   "codemirror_mode": {
    "name": "ipython",
    "version": 3
   },
   "file_extension": ".py",
   "mimetype": "text/x-python",
   "name": "python",
   "nbconvert_exporter": "python",
   "pygments_lexer": "ipython3",
   "version": "3.8.8"
  }
 },
 "nbformat": 4,
 "nbformat_minor": 4
}
